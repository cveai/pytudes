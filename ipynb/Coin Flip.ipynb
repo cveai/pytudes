{
 "cells": [
  {
   "cell_type": "markdown",
   "metadata": {},
   "source": [
    "# 악마와 동전 게임\n",
    "\n",
    "어느 날 악마가 내게 [바이올린 콘테스트](https://en.wikipedia.org/wiki/The_Devil_Went_Down_to_Georgia)를 제안한다면, 그 제안을 받아들일 것이다. 하지만, 나한테는 바이올린 콘테스트보다는 아래와 같은 콘테스트가 이길 가능성이 더 높을 것이다:\n",
    "\n",
    "> *당신은 악마와 영혼을 걸고 게임을 하는 중이다. 원형 테이블에 4개의 동전이 다이아몬드 형태(즉, 12시, 3시, 6시, 9시 방향)로 놓여 있다. 당신의 눈은 가려져 있고, 앞에 있는 동전이나 테이블을 전혀 볼 수 없다.* \n",
    "\n",
    "> *목표는 모든 4개의 동전이 앞면(Head)이 보이도록 뒤집는 것이다. 당신은 악마에게 특정 동전(혹은 여러 동전)을 뒤집어 달라고 얘기할 수 있다. 악마는 충실히 요청받은 대로 동전을 뒤집을 것이지만, 뒤집기 전에 테이블을 몰래 돌려 동전이 다른 위치에 있도록 할 수 있다. (악마는 테이블을 90도씩 아무 방향으로 횟수와 상관없이 돌릴 수 있다). 모든 동전이 앞면이 나올 때까지 당신은 뒤집을 동전을 선택하고, 악마는 테이블을 돌리거나 동전을 뒤집는 것을 반복한다.*\n",
    "\n",
    "> *예시: 악마에게 12시와 6시 방향 동전을 뒤집으라고 지시한다. 악마는 시계 방향으로 90도 테이블을 돌린다. 그러고 나서 12시와 6시 방향에 위치한 동전을 뒤집는다 (테이블을 돌렸으니, 각각 9시와 3시 방향에 있던 동전일 것이다). 이는 예시로서, 악마는 다른 방향으로 여러 번 테이블을 돌렸을 수도 있다.* \n",
    "\n",
    "> *이때 초기 동전의 앞뒤 여부와 상관없이 악마가 테이블을 어떻게 돌리든지 승리가 **확정**된 가장 작은 수의 행동은 무엇일까?*\n",
    "\n",
    "## 분석\n",
    "\n",
    "- 목표는 \"가장 작은 수\"의 행동을 찾는 것이다. 이는 이전에도 많이 해본 [최단 경로 탐색 문제](https://en.wikipedia.Oraorg/Wikiwiki/Shortest_path_problem)에 해당한다. \n",
    "- 악마도 특정 행동을 할 수 있기 때문에 [미니 맥스 문제](https://en.wikipedia.Oraorg/Wikiwiki/Minimax)라고 생각할지도 모른다. 왜냐하면 악마가 최상의 상태에서 더 멀어지도록 테이블을 돌릴 수 있는 것을 고려해서 탐색을 해야 하기 때문이다. \n",
    "- 하지만, 미니 맥스는 상대방의 움직임을 알 수 있는 경우에만 사용할 수 있다: 즉, *\"상대방이 그걸 했네, 그럼 나는 이걸 해야지\"* 같은 경우에만 적용할 수 있다. 이 문제에서는 플레이어의 눈이 가려진 상태이다. 따라서, [부분 관측 문제(Partially Observable Problem)](https://en.wikipedia.Oraorg/Wikiwiki/Partially_observable_system)에 해당한다(이 경우에는 눈가리개를 했기 때문에 **전혀** 관측할 수 없지만 그래도 \"부분 관측\"이라고 말한다).\n",
    "- 이러한 문제에서, 어떠한 행동을 하기 전이나 이후에나 실제 상태(true state)가 어떠한지 확신할 수 없다. 따라서, 현재 *알고 있는 사전 지식*을 표현하는 방법을 찾아야 한다. 이를 *신뢰 상태(belief state)*이라고 하고 가능하다고 생각되는 모든 상태의 집합으로 나타낼 것이다. 게임을 시작할 당시, 각 동전은 앞면(H) 혹은 뒷면(T)을 가질 수 있기 때문에, 2<sup>4</sup> = 16가지 경우의 수가 존재한다. 이때 신뢰 상태를 표현하면 다음과 같다.\n",
    "       {HHHH, HHHT, HHTH, HHTT, HTHH, HTHT, HTTH, HTTT, \n",
    "        THHH, THHT, THTH, THTT, TTHH, TTHT, TTTH, TTTT}\n",
    "- 따라서, 이는 단일 에이전트의 신뢰 상태(belief state) 공간(동전의 물리적인 상태 공간이 아니라)상에서 최단 경로 탐색문제에 해당한다. 즉 초기 신뢰 상태(initial belief state)에서 `{HHHH}`라는 목표 상태에 도달하는 최단 경로를 찾아야 한다.\n",
    "- 신뢰 상태를 변경하는 행동은 다음과 같다: 현재 신뢰 상태에 있는 각각의 동전 순서에서 모든 회전 방향을 고려한 후 동전을 뒤집는다. 이 결과를 다 모아서 새로운 신뢰 상태를 만든다. 탐색 공간은 $2^{16}$ 경우의 수로 작은 편이기 때문에 실행 속도는 빠를 것이다. \n",
    "- 문제를 단순화하기 위해서 지금은 회전 대칭(rotational symmetry)에 대해서는 고려하지 않는다 (나중에 언급할 예정이다).\n",
    "\n",
    "\n",
    "## 기본 자료 구조 및 함수\n",
    "\n",
    "어떤 자료 구조를 사용해야 하는가? \n",
    "\n",
    "- `Coins`: *동전 순서*(테이블 위에 놓인 4개의 동전)는 4개의 `str` 타입으로 나타낸다. 예를 들면, `'HTTT'`처럼 말이다. \n",
    "- `Belief`: *신뢰 상태(belief state)* 는 `Coins`의 `frozenset`을 통해 표현한다 (해시를 위해 `frozenset`을 사용한다). 예를 들면, `{'HHHT', 'TTTH'}` 식이다. \n",
    "- `Position`: 동전 순서의 정수 인덱스를 의미한다. `0`은 `'HTTT'`가 주어졌을 때 가장 앞글자인 `H`를 나타내며, 이는 12시 방향에 위치한 동전을 의미한다. `1`은 3시 방향, `2`는 6시 방향, 그리고 `3`은 9시 방향에 위치한 동전을 나타낸다. \n",
    "- `Move`: 뒤집을 동전의 위치를 `set`으로 나타낸다. 예를 들면, 첫번째와 세번째 동전을 뒤집는 행동은 `{0, 2}`로 나타낸다.\n",
    "- `Strategy`: 각 `Move`를 담고 있는 순서가 있는 `list` 형으로 나타낸다. 플레이어는 앞을 볼 수 없으므로 이 자료 구조는 단순히 행동의 순서(즉, 전략)를 기록하는 용도로 사용한다."
   ]
  },
  {
   "cell_type": "code",
   "execution_count": 1,
   "metadata": {},
   "outputs": [],
   "source": [
    "from collections import deque\n",
    "from itertools   import product, combinations, chain\n",
    "import random\n",
    "\n",
    "Coins     = ''.join   # `str`형의 동전 순서:'HHHT'.\n",
    "Belief    = frozenset # 가능한 모든 동전 순서: {'HHHT', 'TTTH'}.\n",
    "Position  = int       # 동전 순서에서 각 동전의 위치를 나타낼 인덱스\n",
    "Move      = set       # 뒤집을 동전의 위치: {0, 2}\n",
    "Strategy  = list      # `Move`를 저장할 list: [{0, 1, 2, 3}, {0, 2}, ...]"
   ]
  },
  {
   "cell_type": "markdown",
   "metadata": {},
   "source": [
    "위 자료 구조를 사용하기 위해서 어떤 함수들이 필요로 할까? \n",
    "\n",
    "- `all_moves()`: 플레이어가 할 수 있는 모든 행동이 담긴 `list`를 반환한다. \n",
    "- `all_coins()`: 모든 16가지의 경우의 수를 포함한 신뢰 상태를 반환한다: `{'HHHH', 'HHHT', ...}`. \n",
    "- `rotations(coins)`: 주어진 동전 순서에서 가능한 모든 회전을 고려한 신뢰 상태를 반환한다. \n",
    "- `flip(coins, move)`: 동전 순서에서 특정 인덱스의 위치한 동전을 뒤집는다(`'HHHH'`일 경우는 게임이 종료되므로 제외). \n",
    "- `update(belief, move)`: 신뢰 상태를 업데이트한다: 모든 회전을 고려한 후, `move`에 따라 동전을 뒤집은 결과를 반환한다."
   ]
  },
  {
   "cell_type": "code",
   "execution_count": 2,
   "metadata": {},
   "outputs": [],
   "source": [
    "def all_moves() -> [Move]: \n",
    "    \"가능한 모든 행동을 반환한다.\"\n",
    "    return [set(m) for m in powerset(range(4))]\n",
    "\n",
    "def all_coins() -> Belief:\n",
    "    \"모든 동전 순서 경우의 수를 가진 신뢰 상태를 반환한다.\"\n",
    "    return Belief(map(Coins, product('HT', repeat=4)))\n",
    "\n",
    "def rotations(coins) -> {Coins}: \n",
    "    \"하나의 동전 순서가 주어졌을 때 모든 회전을 적용한 `set`을 반환한다.\"\n",
    "    return {coins[r:] + coins[:r] for r in range(4)}\n",
    "\n",
    "def flip(coins, move) -> Coins:\n",
    "    \"`move`에 주어진 위치에 있는 동전을 뒤집는다('HHHH'일 경우 그대로 둔다).\"\n",
    "    if 'T' not in coins: return coins # 'HHHH' 임으로 그대로 둠\n",
    "    coins = list(coins) # 값을 변경할 수 있도록 `list` 형으로 변경\n",
    "    for i in move:\n",
    "        coins[i] = ('H' if coins[i] == 'T' else 'T')\n",
    "    return Coins(coins)\n",
    "\n",
    "def update(belief, move) -> Belief:\n",
    "    \"신뢰 상태를 업데이트 한다: 모든 회전을 고려한 후 뒤집는다.\"\n",
    "    return Belief(flip(c, move)\n",
    "                  for coins in belief\n",
    "                  for c in rotations(coins))\n",
    "\n",
    "flatten = chain.from_iterable\n",
    "\n",
    "def powerset(iterable): \n",
    "    \"\"\"거듭제곱 집합을 반환한다.\n",
    "    \n",
    "    Example:\n",
    "        >>> powerset([1,2,3])\n",
    "        [(), (1,), (2,), (3,), (1,2), (1,3), (2,3), (1,2,3)]\n",
    "    \"\"\"\n",
    "    # https://docs.python.org/3/library/itertools.html#itertools-recipes\n",
    "    s = list(iterable)\n",
    "    return flatten(combinations(s, r) for r in range(len(s) + 1))"
   ]
  },
  {
   "cell_type": "markdown",
   "metadata": {},
   "source": [
    "위 함수의 결과를 살펴보자:"
   ]
  },
  {
   "cell_type": "code",
   "execution_count": 3,
   "metadata": {},
   "outputs": [
    {
     "data": {
      "text/plain": [
       "[set(),\n",
       " {0},\n",
       " {1},\n",
       " {2},\n",
       " {3},\n",
       " {0, 1},\n",
       " {0, 2},\n",
       " {0, 3},\n",
       " {1, 2},\n",
       " {1, 3},\n",
       " {2, 3},\n",
       " {0, 1, 2},\n",
       " {0, 1, 3},\n",
       " {0, 2, 3},\n",
       " {1, 2, 3},\n",
       " {0, 1, 2, 3}]"
      ]
     },
     "execution_count": 3,
     "metadata": {},
     "output_type": "execute_result"
    }
   ],
   "source": [
    "all_moves()"
   ]
  },
  {
   "cell_type": "code",
   "execution_count": 4,
   "metadata": {},
   "outputs": [
    {
     "data": {
      "text/plain": [
       "frozenset({'HHHH',\n",
       "           'HHHT',\n",
       "           'HHTH',\n",
       "           'HHTT',\n",
       "           'HTHH',\n",
       "           'HTHT',\n",
       "           'HTTH',\n",
       "           'HTTT',\n",
       "           'THHH',\n",
       "           'THHT',\n",
       "           'THTH',\n",
       "           'THTT',\n",
       "           'TTHH',\n",
       "           'TTHT',\n",
       "           'TTTH',\n",
       "           'TTTT'})"
      ]
     },
     "execution_count": 4,
     "metadata": {},
     "output_type": "execute_result"
    }
   ],
   "source": [
    "all_coins()"
   ]
  },
  {
   "cell_type": "code",
   "execution_count": 5,
   "metadata": {},
   "outputs": [
    {
     "data": {
      "text/plain": [
       "{'HHHT', 'HHTH', 'HTHH', 'THHH'}"
      ]
     },
     "execution_count": 5,
     "metadata": {},
     "output_type": "execute_result"
    }
   ],
   "source": [
    "rotations('HHHT')"
   ]
  },
  {
   "cell_type": "code",
   "execution_count": 6,
   "metadata": {},
   "outputs": [
    {
     "data": {
      "text/plain": [
       "'THTT'"
      ]
     },
     "execution_count": 6,
     "metadata": {},
     "output_type": "execute_result"
    }
   ],
   "source": [
    "flip('HHHT', {0, 2})"
   ]
  },
  {
   "cell_type": "markdown",
   "metadata": {},
   "source": [
    "`all_coins`은 모든 경우의 수인 $2^4 = 16$ 경우의 수를 가진 신뢰 상태를 반환한다. 동전 순서에서 모든 동전 4개를 뒤집어서 신뢰 상태를 업데이트하면(즉, 0, 1, 2, 3에 위치한 동전을 뒤집으면), `TTTT`의 경우의 수가 없어져 15가지의 동전 순서가 남게 된다:"
   ]
  },
  {
   "cell_type": "code",
   "execution_count": 7,
   "metadata": {},
   "outputs": [
    {
     "data": {
      "text/plain": [
       "frozenset({'HHHH',\n",
       "           'HHHT',\n",
       "           'HHTH',\n",
       "           'HHTT',\n",
       "           'HTHH',\n",
       "           'HTHT',\n",
       "           'HTTH',\n",
       "           'HTTT',\n",
       "           'THHH',\n",
       "           'THHT',\n",
       "           'THTH',\n",
       "           'THTT',\n",
       "           'TTHH',\n",
       "           'TTHT',\n",
       "           'TTTH'})"
      ]
     },
     "execution_count": 7,
     "metadata": {},
     "output_type": "execute_result"
    }
   ],
   "source": [
    "update(all_coins(), {0, 1, 2, 3})"
   ]
  },
  {
   "cell_type": "code",
   "execution_count": 8,
   "metadata": {},
   "outputs": [
    {
     "data": {
      "text/plain": [
       "[(), (1,), (2,), (3,), (1, 2), (1, 3), (2, 3), (1, 2, 3)]"
      ]
     },
     "execution_count": 8,
     "metadata": {},
     "output_type": "execute_result"
    }
   ],
   "source": [
    "list(powerset([1, 2, 3]))"
   ]
  },
  {
   "cell_type": "markdown",
   "metadata": {},
   "source": [
    "전부 제대로 작동하는 것 같으니 다음으로 넘어가자."
   ]
  },
  {
   "cell_type": "markdown",
   "metadata": {},
   "source": [
    "## 필승을 위한 전략 탐색 \n",
    "\n",
    "아래 `search` 함수는 `start` 상태에서 `goal` 상태까지 도달하는 법을 찾기 위해 너비 우선 탐색(BFS)을 사용한다. 플레이어의 순서가 돌아올때 가능한 `actions`를 고려하여 각 행동의 `result`를 계산한다 (`result`는 `result(state, action)` 함수로 현재 상태에서 특정 행동을 한 결과인 새로운 상태를 반환한다). \n",
    "\n",
    "`search`는 탐색 되지 않은(unexplored) 경우의 수를 담을 `queue` 자료구조를 이용한다. `queue`의 원소는 *전략* (행동 순서)과 그로 인한 결과 *상태* 를 가진 `tuple` 자료 구조이다. \n",
    "\n",
    "또한, 이미 `explored` 된 상태를 다시 방문하지 않도록 저장한다. 이런 비슷한 함수를 이전에 다른 탐색 문제를 위해 여러 번 구현했었던 적이 있다."
   ]
  },
  {
   "cell_type": "code",
   "execution_count": 9,
   "metadata": {},
   "outputs": [],
   "source": [
    "def search(start, goal, actions, result) -> Strategy:\n",
    "    \"\"\"`start` 상태에서 `goal` 상태까지 도달하는 경로를 탐색하는 BFS.    \n",
    "    `goal`에 도달하면 `Strategy`를 반환한다.\"\"\"\n",
    "    explored = set()\n",
    "    queue = deque([(Strategy(), start)])\n",
    "    while queue:\n",
    "        (strategy, state) = queue.popleft()\n",
    "        if state == goal:\n",
    "            return strategy\n",
    "        for action in actions:\n",
    "            state2 = result(state, action)\n",
    "            if state2 not in explored:\n",
    "                queue.append((strategy + [action], state2))\n",
    "                explored.add(state2)"
   ]
  },
  {
   "cell_type": "markdown",
   "metadata": {},
   "source": [
    "`search`는 신뢰 상태와 직접적으로 관련 없다는 점에 주목하자 &mdash; 단순히 물리적인 상태(예, 동전 순서)에 대해서만 알고 있다. 하지만, 놀랍게도 신뢰 상태(Belief state) 공간에서 탐색하는 것도 가능하다. 초기 상태, 목표 상태, 그리고 상태가 변화하는 행동을 잘 정의하기만 한다면 신뢰 상태 탐색도 잘 작동할 것이다. \n",
    "\n",
    "아래 `coin_search` 함수는 `search`를 사용해 신뢰 상태를 탐색하는 것을 보여준다."
   ]
  },
  {
   "cell_type": "code",
   "execution_count": 10,
   "metadata": {},
   "outputs": [
    {
     "data": {
      "text/plain": [
       "[{0, 1, 2, 3},\n",
       " {0, 2},\n",
       " {0, 1, 2, 3},\n",
       " {0, 1},\n",
       " {0, 1, 2, 3},\n",
       " {0, 2},\n",
       " {0, 1, 2, 3},\n",
       " {0},\n",
       " {0, 1, 2, 3},\n",
       " {0, 2},\n",
       " {0, 1, 2, 3},\n",
       " {0, 1},\n",
       " {0, 1, 2, 3},\n",
       " {0, 2},\n",
       " {0, 1, 2, 3}]"
      ]
     },
     "execution_count": 10,
     "metadata": {},
     "output_type": "execute_result"
    }
   ],
   "source": [
    "def coin_search() -> Strategy: \n",
    "    \"`search`를 사용하여 동전 뒤집기 문제를 해결한다.\"\n",
    "    return search(start=all_coins(), goal={'HHHH'}, actions=all_moves(), result=update)\n",
    "\n",
    "coin_search()"
   ]
  },
  {
   "cell_type": "markdown",
   "metadata": {},
   "source": [
    "\n",
    "15번의 행동으로 필승 전략을 찾았다. **단순히 답만 원한다면 여기서 멈춰도 된다.** \n",
    "\n",
    "---- \n",
    "\n",
    "계속 진행하자면 ... \n",
    "\n",
    "## 필승 전략을 검증해보자 \n",
    "\n",
    "수학적 증명은 없지만 위 전략이 작동한다는 단서는 몇 가지 얻을 수 있다.: \n",
    "- 종이와 연필로 탐색해보니 제대로 작동하는 것 같다. \n",
    "- 동료도 문제를 풀었더니 같은 답이 나왔다. \n",
    "- 혹은 **아래 `winning` 테스트를 통과한다**. \n",
    "\n",
    "`winning(strategy, k)` 함수는 `strategy`를 실제 테이블을 무작위로 돌리는 악마에 대항하여 `k`번 시뮬레이션 해본다. 이는 신뢰 상태(Belief state)가 아닌 실제 `HTHH`같은 개별 상태가 주어지면 `strategy` 대로 실행한 후 승패 여부를 반환하는 함수이다.\n",
    "\n",
    "만약 `winning`이 `False`를 반환한다면, *당연히* 이 전략에는 문제가 있다. `True`를 반환한다면 *아마도* 괜찮을 것이다 &mdash; *k* 번 연속으로 승리했기 때문에 &mdash; 하지만 여전히 항상 이길 수 있는지는 증명할 수 없다. 또한, `winning`이 가장 *적은* 행동으로 승리했는지도 알지 못한다."
   ]
  },
  {
   "cell_type": "code",
   "execution_count": 11,
   "metadata": {},
   "outputs": [
    {
     "data": {
      "text/plain": [
       "True"
      ]
     },
     "execution_count": 11,
     "metadata": {},
     "output_type": "execute_result"
    }
   ],
   "source": [
    "def winning(strategy, k=100000) -> bool:\n",
    "    \"승리 전략인가? 확률론적 알고리즘으로 확인해보자.\"\n",
    "    return all(play(strategy) == 'HHHH'\n",
    "               for _ in range(k))\n",
    "\n",
    "def play(strategy, starting_coins=list(all_coins())) -> Coins:\n",
    "    \"게임을 한차례 시뮬레이션 한 후 최종 결과를 반환한다.\"\n",
    "    coins = random.choice(starting_coins)\n",
    "    for move in strategy:\n",
    "        if 'T' not in coins: return coins\n",
    "        coins = random.choice(list(rotations(coins)))\n",
    "        coins = flip(coins, move)\n",
    "    return coins\n",
    "\n",
    "winning(strategy=coin_search())"
   ]
  },
  {
   "cell_type": "markdown",
   "metadata": {},
   "source": [
    "## 동전 순서의 표준화 (canonical) \n",
    "\n",
    "다음과 같은 동전 순서를 살펴보자: `{'HHHT', 'HHTH', 'HTHH', 'THHH'}`. 잘 살펴보면, 똑같은 상태를 나타낸다. 테이블이 다른 각도로 돌려져 있을 뿐, 결국 같은 상태를 의미하기 때문이다. 악마는 테이블을 원하는 만큼 돌릴 수 있기 때문에, 위 상태를 전부 하나의 같은 상태(표준값)로 나타내는 것이 더 효율적이다. 따라서, `Coins`를 `\"\".join`이 아닌 `str`를 반환하는 함수로 다시 정의할 것이다. `str`은 사용하는 이유는 여전히 `'H'`/`'T'`로 구성된 `iterable`형 이기 때문이다. \n",
    "\n",
    "이번 `Coins` 함수는 위 가능한 경우의 수를 살펴본 후 문자열 순서대로 가장 앞에 있는 결과를 반환한다 (예를 들면, 위에서 언급된 동전 순서는 `'HHHT'`를 반환한다)."
   ]
  },
  {
   "cell_type": "code",
   "execution_count": 12,
   "metadata": {},
   "outputs": [],
   "source": [
    "def Coins(coins) -> str:\n",
    "    \"\"\"표준화된 동전 순서를 반환한다.\n",
    "    \n",
    "    Example:\n",
    "        >>> Coins(\"THHH\")\n",
    "        HHHT\n",
    "    \"\"\"\n",
    "    return min(rotations(''.join(coins)))"
   ]
  },
  {
   "cell_type": "code",
   "execution_count": 13,
   "metadata": {},
   "outputs": [],
   "source": [
    "assert Coins('HHHT') == Coins('HHTH') == Coins('HTHH') == Coins('THHH') == 'HHHT'"
   ]
  },
  {
   "cell_type": "markdown",
   "metadata": {},
   "source": [
    "`Coins`을 재정의했으니 `all_coins()`의 결과도 달라진다:"
   ]
  },
  {
   "cell_type": "code",
   "execution_count": 14,
   "metadata": {},
   "outputs": [
    {
     "data": {
      "text/plain": [
       "frozenset({'HHHH', 'HHHT', 'HHTT', 'HTHT', 'HTTT', 'TTTT'})"
      ]
     },
     "execution_count": 14,
     "metadata": {},
     "output_type": "execute_result"
    }
   ],
   "source": [
    "all_coins()"
   ]
  },
  {
   "cell_type": "markdown",
   "metadata": {},
   "source": [
    "초기 신뢰 상태가 16에서 6으로 줄어든 것을 알 수 있다. 각각 \n",
    "- 4개의 앞면 (`'HHHH'`)\n",
    "- 3개의 앞면 (`'HHHT'`)\n",
    "- 2개의 (불어 있는) 앞면 (`'HHTT'`)\n",
    "- 2개의 (서로 떨어져 있는) 앞면 (`'HTHT'`)\n",
    "- 1개의 앞면 (`'HTTT'`)\n",
    "- 앞면이 없는 경우 (`'TTTT'`)\n",
    "에 해당한다.\n",
    "\n",
    "탐색 함수가 제대로 작동하는지 확인해보자:"
   ]
  },
  {
   "cell_type": "code",
   "execution_count": 15,
   "metadata": {},
   "outputs": [
    {
     "data": {
      "text/plain": [
       "[{0, 1, 2, 3},\n",
       " {0, 2},\n",
       " {0, 1, 2, 3},\n",
       " {0, 1},\n",
       " {0, 1, 2, 3},\n",
       " {0, 2},\n",
       " {0, 1, 2, 3},\n",
       " {0},\n",
       " {0, 1, 2, 3},\n",
       " {0, 2},\n",
       " {0, 1, 2, 3},\n",
       " {0, 1},\n",
       " {0, 1, 2, 3},\n",
       " {0, 2},\n",
       " {0, 1, 2, 3}]"
      ]
     },
     "execution_count": 15,
     "metadata": {},
     "output_type": "execute_result"
    }
   ],
   "source": [
    "coin_search()"
   ]
  },
  {
   "cell_type": "markdown",
   "metadata": {},
   "source": [
    "## *N* 동전이 있을 때 필승 전략 \n",
    "\n",
    "만약 3개의 동전이 있었다면 어떨까? 6개의 동전이 있었다면? 이 문제를 해결하기 위해 다음 함수들을 `N = 4`를 기본 인자로 가진 함수로 일반화할 것이다: `all_moves`, `all_coins`, `rotations`, `coin_search`. \n",
    "\n",
    "`all_coins(N)`를 계산하는 방법은 간단하다. 모든 경우의 수를 `product` 함수로 구한 다음 `Coins`를 사용해 표준화하면 된다. `all_moves(N)`은 표준화된 행동을 반환해야 한다: `{0}`을 뒤집는 것이나 `{1}`을 뒤집는 것이나 결국 \"동전 하나를 뒤집는\" 같은 행동이다. 따라서 `all_coins(N)`의 표준화 결과를 살펴본 후 `H`가 있는 동전을 뒤집으면 된다. (대칭이기 때문에 `T`를 사용할 필요가 없다)."
   ]
  },
  {
   "cell_type": "code",
   "execution_count": 16,
   "metadata": {},
   "outputs": [],
   "source": [
    "def all_moves(N=4) -> [Move]:\n",
    "    \"\"\"`N`개 동전 순서의 가능한 모든 표준화 행동을 반환한다.\n",
    "    \n",
    "    Example:\n",
    "        >>> all_moves(3)\n",
    "        [{0, 1, 2}, {0, 1}, {0}, {}]\n",
    "    \"\"\"\n",
    "    return [set(i for i in range(N) if coins[i] == 'H')\n",
    "            for coins in sorted(all_coins(N))]\n",
    "\n",
    "\n",
    "def all_coins(N=4) -> Belief:\n",
    "    \"\"\"모든 경우의 수를 가진 구성된 신뢰 상태를 반환한다.\n",
    "    \n",
    "    Example:\n",
    "        >>> all_coins(4)\n",
    "        {'HHHH', 'HHHT', 'HHTT', 'HTHT', 'HTTT', 'TTTT'}\n",
    "    \"\"\"\n",
    "    return Belief(map(Coins, product('HT', repeat=N)))\n",
    "\n",
    "\n",
    "def rotations(coins) -> {Coins}:\n",
    "    \"\"\"주어진 동전 순서에서 모든 회전 경우의 수를 반환한다.\n",
    "    \n",
    "    Example:\n",
    "        >>> rotations('HHT')\n",
    "        {'HHT', 'HTH', 'THH'}\n",
    "    \"\"\"\n",
    "    return {coins[r:] + coins[:r] for r in range(len(coins))}\n",
    "\n",
    "\n",
    "def coin_search(N=4) -> Strategy:\n",
    "    \"\"\"일반화된 `search` 함수를 사용하여 문제를 해결한다.\n",
    "    \n",
    "    Example:\n",
    "        >>> coin_search(2)\n",
    "        [{0, 1}, {0}, {0, 1}]\n",
    "    \"\"\"\n",
    "    return search(start=all_coins(N), goal={'H' * N}, actions=all_moves(N), result=update)"
   ]
  },
  {
   "cell_type": "markdown",
   "metadata": {},
   "source": [
    "`update`와 `coin_search`가 제대로 작동하는지 테스트해보자:"
   ]
  },
  {
   "cell_type": "code",
   "execution_count": 17,
   "metadata": {},
   "outputs": [],
   "source": [
    "assert all_moves(3) == [{0, 1, 2}, {0, 1}, {0}, set()]\n",
    "assert all_moves(4) == [{0, 1, 2, 3}, {0, 1, 2}, {0, 1}, {0, 2}, {0}, set()]\n",
    "\n",
    "assert all_coins(4) == {'HHHH', 'HHHT', 'HHTT', 'HTHT', 'HTTT', 'TTTT'}\n",
    "assert all_coins(5) == {'HHHHH','HHHHT', 'HHHTT','HHTHT','HHTTT', 'HTHTT', 'HTTTT', 'TTTTT'}\n",
    "\n",
    "assert rotations('HHHHHT') == {'HHHHHT', 'HHHHTH', 'HHHTHH', 'HHTHHH', 'HTHHHH', 'THHHHH'}\n",
    "assert update({'TTTTTTT'}, {3}) == {'HTTTTTT'}\n",
    "assert (update(rotations('HHHHHT'), {0}) == update({'HHTHHH'}, {1}) == update({'THHHHH'}, {2})\n",
    "        == {'HHHHHH', 'HHHHTT', 'HHHTHT', 'HHTHHT'})\n",
    "\n",
    "assert coin_search(4) == [\n",
    " {0, 1, 2, 3},\n",
    " {0, 2},\n",
    " {0, 1, 2, 3},\n",
    " {0, 1},\n",
    " {0, 1, 2, 3},\n",
    " {0, 2},\n",
    " {0, 1, 2, 3},\n",
    " {0, 1, 2},\n",
    " {0, 1, 2, 3},\n",
    " {0, 2},\n",
    " {0, 1, 2, 3},\n",
    " {0, 1},\n",
    " {0, 1, 2, 3},\n",
    " {0, 2},\n",
    " {0, 1, 2, 3}]"
   ]
  },
  {
   "cell_type": "markdown",
   "metadata": {},
   "source": [
    "12개 동전까지 몇 개의 고유한 동전 순서가 있는지 살펴보자."
   ]
  },
  {
   "cell_type": "code",
   "execution_count": 18,
   "metadata": {},
   "outputs": [
    {
     "data": {
      "text/plain": [
       "{1: 2,\n",
       " 2: 3,\n",
       " 3: 4,\n",
       " 4: 6,\n",
       " 5: 8,\n",
       " 6: 14,\n",
       " 7: 20,\n",
       " 8: 36,\n",
       " 9: 60,\n",
       " 10: 108,\n",
       " 11: 188,\n",
       " 12: 352}"
      ]
     },
     "execution_count": 18,
     "metadata": {},
     "output_type": "execute_result"
    }
   ],
   "source": [
    "{N: len(all_coins(N))\n",
    " for N in range(1, 13)}"
   ]
  },
  {
   "cell_type": "markdown",
   "metadata": {},
   "source": [
    "12개 동전도 352개의 경우의 수로 나쁘지 않아 보인다. 표준화되지 않을 경우, 4,096개의 경우의 수가 있기 때문이다. 하지만 한편 탐색을 위해서 구골(googol, $10^{100}$)을 넘어서는 2<sup>352</sup>가지의 신뢰 상태를 탐색해야 한다. 하지만, 7개 동전까지는 2<sup>20</sup>으로 약 100만 정도로 해볼 만하다. \n",
    "\n",
    "## 1개부터 7개 동전까지 필승 전략"
   ]
  },
  {
   "cell_type": "code",
   "execution_count": 19,
   "metadata": {},
   "outputs": [
    {
     "data": {
      "text/plain": [
       "{1: [{0}],\n",
       " 2: [{0, 1}, {0}, {0, 1}],\n",
       " 3: None,\n",
       " 4: [{0, 1, 2, 3},\n",
       "  {0, 2},\n",
       "  {0, 1, 2, 3},\n",
       "  {0, 1},\n",
       "  {0, 1, 2, 3},\n",
       "  {0, 2},\n",
       "  {0, 1, 2, 3},\n",
       "  {0, 1, 2},\n",
       "  {0, 1, 2, 3},\n",
       "  {0, 2},\n",
       "  {0, 1, 2, 3},\n",
       "  {0, 1},\n",
       "  {0, 1, 2, 3},\n",
       "  {0, 2},\n",
       "  {0, 1, 2, 3}],\n",
       " 5: None,\n",
       " 6: None,\n",
       " 7: None}"
      ]
     },
     "execution_count": 19,
     "metadata": {},
     "output_type": "execute_result"
    }
   ],
   "source": [
    "{N: coin_search(N) for N in range(1, 8)}"
   ]
  },
  {
   "cell_type": "markdown",
   "metadata": {},
   "source": [
    "N = 3, 5, 6, 혹은 7일 때 필승 전략이 없는 것을 알 수 있다. \n",
    "\n",
    "N = 1, 2, 4일 경우 필승 전략이 존재하는데 각각 1, 3, 15번의 행동으로 필승할 수 있다. 음…. 이걸 보면 다음을 생각해 볼 수 있다 ... \n",
    "\n",
    "## 가정 \n",
    "> *N*이 2의 제곱 수일 경우, 2<sup>*N*</sup> - 1번의 행동을 가진 필승 전략이 존재한다. \n",
    "\n",
    "> *N*이 2의 제곱 수가 아닐 경우, 필승 전략이 존재하지 않는다. \n",
    "\n",
    "## 8개 동전의 필승 전략 \n",
    "\n",
    "N = 8 일 경우, 2<sup>36</sup> = 약 690억 개의 신뢰 상태가 존재한다. 만약 위 가정이 맞는다면 255개의 행동을 가진 필수 전략이 존재할 것이다. 지금까지 정답은 바로 나왔지만 이번 경우는 시간이 조금 걸릴 것이다. 한번 알아보자:"
   ]
  },
  {
   "cell_type": "code",
   "execution_count": 20,
   "metadata": {},
   "outputs": [
    {
     "name": "stdout",
     "output_type": "stream",
     "text": [
      "CPU times: user 1min 1s, sys: 35.9 ms, total: 1min 1s\n",
      "Wall time: 1min 1s\n"
     ]
    }
   ],
   "source": [
    "%time strategy = coin_search(8)"
   ]
  },
  {
   "cell_type": "code",
   "execution_count": 21,
   "metadata": {},
   "outputs": [
    {
     "data": {
      "text/plain": [
       "255"
      ]
     },
     "execution_count": 21,
     "metadata": {},
     "output_type": "execute_result"
    }
   ],
   "source": [
    "len(strategy)"
   ]
  },
  {
   "cell_type": "markdown",
   "metadata": {},
   "source": [
    "**유레카!** 어림짐작으로 한 가정이 맞을지도 모른다. 하지만 여전히 수학적인 증명이 아니다. 그리고 여전히 많은 질문이 남아있다: \n",
    "\n",
    "- *N* = 9, 10, 11, ... 일 때 필승 전략이 존재하지 않는 걸 보여 줄 수 있는가? \n",
    "- *N*이 2의 제곱 수가 아닐 경우 필승전략이 존재하지 않는 걸 증명할 수 있는가? \n",
    "- *N* = 16일 때 65,535 길이를 가진 전략이 나오는지 확인해볼 수 있는가?\n",
    "- 2의 제곱 수인 경우 필승 전략을 바로 찾을 수 있는가? \n",
    "- *N* = 16일 때 더 짧은 전략이 존재하지 않는지 증명할 수 있는가? \n",
    "- 위 가정을 일반화하여 증명할 수 있는가? \n",
    "- 행동을 나열하는 것이 아닌 전략이 어떻게 작동하는지 *이해*하고 *설명*할 수 있는가?"
   ]
  },
  {
   "cell_type": "markdown",
   "metadata": {},
   "source": [
    "## 전략 시각화"
   ]
  },
  {
   "cell_type": "code",
   "execution_count": 22,
   "metadata": {},
   "outputs": [],
   "source": [
    "def show(moves, N=4):\n",
    "    \"순서, 행동, 신뢰 상태를 출력한다.\"\n",
    "    belief = all_coins(N)\n",
    "    order = sorted(belief)\n",
    "    for (i, move) in enumerate(moves, 1):\n",
    "        belief = update(belief, move)\n",
    "        print('{:3} | {:8} | {}'.format(\n",
    "              i, movestr(move, N), beliefstr(belief, order)))\n",
    "\n",
    "def beliefstr(belief, order) -> str: \n",
    "    return join(((coins if coins in belief else ' ' * len(coins))\n",
    "                 for coins in order), ' ')\n",
    "\n",
    "def movestr(move, N) -> str: \n",
    "    return join((i if i in move else ' ') \n",
    "                for i in range(N))\n",
    "    \n",
    "def join(items, sep='') -> str: \n",
    "    return sep.join(map(str, items))"
   ]
  },
  {
   "cell_type": "markdown",
   "metadata": {},
   "source": [
    "아래 테이블은 각 행동이 신뢰 상태를 어떻게 변화시키는지 보여준다."
   ]
  },
  {
   "cell_type": "code",
   "execution_count": 23,
   "metadata": {},
   "outputs": [
    {
     "name": "stdout",
     "output_type": "stream",
     "text": [
      "  1 | 01       | HH HT   \n",
      "  2 | 0        | HH    TT\n",
      "  3 | 01       | HH      \n"
     ]
    }
   ],
   "source": [
    "show(coin_search(2), 2)"
   ]
  },
  {
   "cell_type": "code",
   "execution_count": 24,
   "metadata": {},
   "outputs": [
    {
     "name": "stdout",
     "output_type": "stream",
     "text": [
      "  1 | 0123     | HHHH HHHT HHTT HTHT HTTT     \n",
      "  2 | 0 2      | HHHH HHHT HHTT      HTTT TTTT\n",
      "  3 | 0123     | HHHH HHHT HHTT      HTTT     \n",
      "  4 | 01       | HHHH HHHT      HTHT HTTT TTTT\n",
      "  5 | 0123     | HHHH HHHT      HTHT HTTT     \n",
      "  6 | 0 2      | HHHH HHHT           HTTT TTTT\n",
      "  7 | 0123     | HHHH HHHT           HTTT     \n",
      "  8 | 012      | HHHH      HHTT HTHT      TTTT\n",
      "  9 | 0123     | HHHH      HHTT HTHT          \n",
      " 10 | 0 2      | HHHH      HHTT           TTTT\n",
      " 11 | 0123     | HHHH      HHTT               \n",
      " 12 | 01       | HHHH           HTHT      TTTT\n",
      " 13 | 0123     | HHHH           HTHT          \n",
      " 14 | 0 2      | HHHH                     TTTT\n",
      " 15 | 0123     | HHHH                         \n"
     ]
    }
   ],
   "source": [
    "show(coin_search(4))"
   ]
  },
  {
   "cell_type": "markdown",
   "metadata": {},
   "source": [
    "홀수 번째 행동마다 `TTTT`의 경우의 수를 없애는 것을 볼 수 있다. 또한, 2, 4, 6번째 행동에서 두 개의 동전을 뒤집어 앞면이 2개만 존재하는 경우의 수를 없애고, 8번째 행동에서 3개 앞면과 1개의 앞면을 가진 경우의 수를 없애면서 2개의 앞면을 가진 경우의 수가 다시 생겨난다. \n",
    "\n",
    "2, 4, 6번째 행동을 반복하고, 10, 12, 14번째 행동이 다시 2개의 앞면이 존재하는 경우의 수를 없애면서 15번째에 마침내 신뢰 상태가 `{'HHHH'}`에 이른다. \n",
    "\n",
    "`show(strategy, 8)`도 해볼 수 있지만, 매우 긴 결과가 나오기 때문에 (345글자) 와이드 스크린이 아니라면 보기 어려울 것이다. 대신에 `verbose` 인자를 `play`에 추가하여 각 행동 이후 결과를 출력할 것이다:"
   ]
  },
  {
   "cell_type": "code",
   "execution_count": 25,
   "metadata": {},
   "outputs": [
    {
     "name": "stdout",
     "output_type": "stream",
     "text": [
      "   1: HHTH rot: THHH  flip: 0123 => HTTT\n",
      "   2: HTTT rot: TTHT  flip: 0 2  => HTTT\n",
      "   3: HTTT rot: TTHT  flip: 0123 => HHHT\n",
      "   4: HHHT rot: HHHT  flip: 01   => HTTT\n",
      "   5: HTTT rot: THTT  flip: 0123 => HHHT\n",
      "   6: HHHT rot: HTHH  flip: 0 2  => HTTT\n",
      "   7: HTTT rot: TTHT  flip: 0123 => HHHT\n",
      "   8: HHHT rot: THHH  flip: 012  => HHTT\n",
      "   9: HHTT rot: TTHH  flip: 0123 => HHTT\n",
      "  10: HHTT rot: TTHH  flip: 0 2  => HHTT\n",
      "  11: HHTT rot: TTHH  flip: 0123 => HHTT\n",
      "  12: HHTT rot: HTTH  flip: 01   => HTHT\n",
      "  13: HTHT rot: HTHT  flip: 0123 => HTHT\n",
      "  14: HTHT rot: THTH  flip: 0 2  => HHHH\n"
     ]
    },
    {
     "data": {
      "text/plain": [
       "'HHHH'"
      ]
     },
     "execution_count": 25,
     "metadata": {},
     "output_type": "execute_result"
    }
   ],
   "source": [
    "def play(coins, strategy, verbose=False):\n",
    "    \"로직은 이전 `play`함수와 동일하다.\"\n",
    "    N = len(coins)\n",
    "    for i, move in enumerate(strategy, 1):\n",
    "        if 'T' not in coins: return coins\n",
    "        coins0 = coins\n",
    "        coins1 = random.choice(list(rotations(coins)))\n",
    "        coins  = flip(coins1, move)\n",
    "        if verbose: \n",
    "            print('{:4d}: {} rot: {}  flip: {} => {}'.format(\n",
    "                  i, coins0, coins1, movestr(move, N), coins))\n",
    "    return coins\n",
    "\n",
    "play('HHTH', coin_search(4), True)"
   ]
  },
  {
   "cell_type": "code",
   "execution_count": 26,
   "metadata": {},
   "outputs": [
    {
     "name": "stdout",
     "output_type": "stream",
     "text": [
      "   1: HTTHTTHT rot: THTHTTHT  flip: 01234567 => HHTHHTHT\n",
      "   2: HHTHHTHT rot: THHTHTHH  flip: 0 2 4 6  => HHHTTTTT\n",
      "   3: HHHTTTTT rot: TTHHHTTT  flip: 01234567 => HHHHHTTT\n",
      "   4: HHHHHTTT rot: HHHHHTTT  flip: 01  45   => HHTHTTTT\n",
      "   5: HHTHTTTT rot: TTHHTHTT  flip: 01234567 => HHHHTTHT\n",
      "   6: HHHHTTHT rot: THTHHHHT  flip: 0 2 4 6  => HHHHTHTT\n",
      "   7: HHHHTHTT rot: THHHHTHT  flip: 01234567 => HHTTTTHT\n",
      "   8: HHTTTTHT rot: TTTTHTHH  flip: 012 456  => HHHHTTHT\n",
      "   9: HHHHTTHT rot: TTHTHHHH  flip: 01234567 => HHTHTTTT\n",
      "  10: HHTHTTTT rot: THHTHTTT  flip: 0 2 4 6  => HHTTTTHT\n",
      "  11: HHTTTTHT rot: TTTHTHHT  flip: 01234567 => HHHHTHTT\n",
      "  12: HHHHTHTT rot: THTTHHHH  flip: 01  45   => HHHTTTTT\n",
      "  13: HHHTTTTT rot: TTTTHHHT  flip: 01234567 => HHHHHTTT\n",
      "  14: HHHHHTTT rot: HTTTHHHH  flip: 0 2 4 6  => HTHTTHTT\n",
      "  15: HTHTTHTT rot: TTHTHTTH  flip: 01234567 => HHTHHTHT\n",
      "  16: HHTHHTHT rot: HHTHHTHT  flip: 0123     => HTHTHTTT\n",
      "  17: HTHTHTTT rot: THTHTTTH  flip: 01234567 => HHHTHTHT\n",
      "  18: HHHTHTHT rot: HHTHTHTH  flip: 0 2 4 6  => HHHHHHHT\n",
      "  19: HHHHHHHT rot: HHHHHHTH  flip: 01234567 => HTTTTTTT\n",
      "  20: HTTTTTTT rot: TTHTTTTT  flip: 01  45   => HHHTHHTT\n",
      "  21: HHHTHHTT rot: HTTHHHTH  flip: 01234567 => HHTTTHTT\n",
      "  22: HHTTTHTT rot: TTHHTTTH  flip: 0 2 4 6  => HHHTTHHT\n",
      "  23: HHHTTHHT rot: HTHHHTTH  flip: 01234567 => HHTTHTTT\n",
      "  24: HHTTHTTT rot: TTHTTTHH  flip: 012 456  => HHHTTHHT\n",
      "  25: HHHTTHHT rot: TTHHTHHH  flip: 01234567 => HHTTHTTT\n",
      "  26: HHTTHTTT rot: HHTTHTTT  flip: 0 2 4 6  => HHTTTHTT\n",
      "  27: HHTTTHTT rot: TTHHTTTH  flip: 01234567 => HHHTHHTT\n",
      "  28: HHHTHHTT rot: HTHHTTHH  flip: 01  45   => HHHHHHHT\n",
      "  29: HHHHHHHT rot: HHHHHHTH  flip: 01234567 => HTTTTTTT\n",
      "  30: HTTTTTTT rot: THTTTTTT  flip: 0 2 4 6  => HHHTHTHT\n",
      "  31: HHHTHTHT rot: THHHTHTH  flip: 01234567 => HTHTHTTT\n",
      "  32: HTHTHTTT rot: HTHTHTTT  flip: 01234 6  => HTHTTHTT\n",
      "  33: HTHTTHTT rot: HTTHTHTT  flip: 01234567 => HHTHHTHT\n",
      "  34: HHTHHTHT rot: HTHHTHTH  flip: 0 2 4 6  => HHHHHTTT\n",
      "  35: HHHHHTTT rot: HHHHTTTH  flip: 01234567 => HHHTTTTT\n",
      "  36: HHHTTTTT rot: HHHTTTTT  flip: 01  45   => HHTTTTHT\n",
      "  37: HHTTTTHT rot: HHTTTTHT  flip: 01234567 => HHHHTHTT\n",
      "  38: HHHHTHTT rot: HHHTHTTH  flip: 0 2 4 6  => HHTHTTTT\n",
      "  39: HHTHTTTT rot: HHTHTTTT  flip: 01234567 => HHHHTTHT\n",
      "  40: HHHHTTHT rot: TTHTHHHH  flip: 012 456  => HHHTTTTT\n",
      "  41: HHHTTTTT rot: TTHHHTTT  flip: 01234567 => HHHHHTTT\n",
      "  42: HHHHHTTT rot: HHTTTHHH  flip: 0 2 4 6  => HHTHHTHT\n",
      "  43: HHTHHTHT rot: THHTHTHH  flip: 01234567 => HTHTTHTT\n",
      "  44: HTHTTHTT rot: HTTHTHTT  flip: 01  45   => HHTTTTHT\n",
      "  45: HHTTTTHT rot: HTTTTHTH  flip: 01234567 => HHHHTHTT\n",
      "  46: HHHHTHTT rot: HTHTTHHH  flip: 0 2 4 6  => HHTHTTTT\n",
      "  47: HHTHTTTT rot: HHTHTTTT  flip: 01234567 => HHHHTTHT\n",
      "  48: HHHHTTHT rot: HHTTHTHH  flip: 0123     => HHHTHHTT\n",
      "  49: HHHTHHTT rot: TTHHHTHH  flip: 01234567 => HHTTTHTT\n",
      "  50: HHTTTHTT rot: HTTTHTTH  flip: 0 2 4 6  => HHTTHTTT\n",
      "  51: HHTTHTTT rot: HTTTHHTT  flip: 01234567 => HHHTTHHT\n",
      "  52: HHHTTHHT rot: HHHTTHHT  flip: 01  45   => HTHTHTTT\n",
      "  53: HTHTHTTT rot: TTHTHTHT  flip: 01234567 => HHHTHTHT\n",
      "  54: HHHTHTHT rot: HHHTHTHT  flip: 0 2 4 6  => HTTTTTTT\n",
      "  55: HTTTTTTT rot: TTTTTHTT  flip: 01234567 => HHHHHHHT\n",
      "  56: HHHHHHHT rot: HHTHHHHH  flip: 012 456  => HHTTTHTT\n",
      "  57: HHTTTHTT rot: HHTTTHTT  flip: 01234567 => HHHTHHTT\n",
      "  58: HHHTHHTT rot: THHHTHHT  flip: 0 2 4 6  => HHHTTHHT\n",
      "  59: HHHTTHHT rot: HTHHHTTH  flip: 01234567 => HHTTHTTT\n",
      "  60: HHTTHTTT rot: THTTTHHT  flip: 01  45   => HTHTHTTT\n",
      "  61: HTHTHTTT rot: TTTHTHTH  flip: 01234567 => HHHTHTHT\n",
      "  62: HHHTHTHT rot: THTHTHHH  flip: 0 2 4 6  => HHHHHHHT\n",
      "  63: HHHHHHHT rot: HHTHHHHH  flip: 01234567 => HTTTTTTT\n",
      "  64: HTTTTTTT rot: TTTTTTTH  flip: 012345   => HHHHHHHT\n",
      "  65: HHHHHHHT rot: THHHHHHH  flip: 01234567 => HTTTTTTT\n",
      "  66: HTTTTTTT rot: HTTTTTTT  flip: 0 2 4 6  => HTHTHTTT\n",
      "  67: HTHTHTTT rot: THTHTHTT  flip: 01234567 => HHHTHTHT\n",
      "  68: HHHTHTHT rot: HHTHTHTH  flip: 01  45   => HHTTHTTT\n",
      "  69: HHTTHTTT rot: HHTTHTTT  flip: 01234567 => HHHTTHHT\n",
      "  70: HHHTTHHT rot: HHHTTHHT  flip: 0 2 4 6  => HHTTTHTT\n",
      "  71: HHTTTHTT rot: HHTTTHTT  flip: 01234567 => HHHTHHTT\n",
      "  72: HHHTHHTT rot: HTTHHHTH  flip: 012 456  => HHHTTHHT\n",
      "  73: HHHTTHHT rot: THHHTTHH  flip: 01234567 => HHTTHTTT\n",
      "  74: HHTTHTTT rot: TTHHTTHT  flip: 0 2 4 6  => HHTTTHTT\n",
      "  75: HHTTTHTT rot: THHTTTHT  flip: 01234567 => HHHTHHTT\n",
      "  76: HHHTHHTT rot: HHTTHHHT  flip: 01  45   => HTTTTTTT\n",
      "  77: HTTTTTTT rot: TTTTHTTT  flip: 01234567 => HHHHHHHT\n",
      "  78: HHHHHHHT rot: HHHHTHHH  flip: 0 2 4 6  => HHHTHTHT\n",
      "  79: HHHTHTHT rot: HTHTHHHT  flip: 01234567 => HTHTHTTT\n",
      "  80: HTHTHTTT rot: HTHTTTHT  flip: 0123     => HTHTTHTT\n",
      "  81: HTHTTHTT rot: TTHTTHTH  flip: 01234567 => HHTHHTHT\n",
      "  82: HHTHHTHT rot: HTHHTHHT  flip: 0 2 4 6  => HHHTTTTT\n",
      "  83: HHHTTTTT rot: TTHHHTTT  flip: 01234567 => HHHHHTTT\n",
      "  84: HHHHHTTT rot: HHHHHTTT  flip: 01  45   => HHTHTTTT\n",
      "  85: HHTHTTTT rot: HTTTTHHT  flip: 01234567 => HHHHTTHT\n",
      "  86: HHHHTTHT rot: HHHHTTHT  flip: 0 2 4 6  => HHTTTTHT\n",
      "  87: HHTTTTHT rot: TTHTHHTT  flip: 01234567 => HHHHTHTT\n",
      "  88: HHHHTHTT rot: THHHHTHT  flip: 012 456  => HTHTTHTT\n",
      "  89: HTHTTHTT rot: THTTHTHT  flip: 01234567 => HHTHHTHT\n",
      "  90: HHTHHTHT rot: HTHHTHHT  flip: 0 2 4 6  => HHHTTTTT\n",
      "  91: HHHTTTTT rot: TTTTHHHT  flip: 01234567 => HHHHHTTT\n",
      "  92: HHHHHTTT rot: TTTHHHHH  flip: 01  45   => HHHHTHTT\n",
      "  93: HHHHTHTT rot: TTHHHHTH  flip: 01234567 => HHTTTTHT\n",
      "  94: HHTTTTHT rot: HTHHTTTT  flip: 0 2 4 6  => HHTHTTTT\n",
      "  95: HHTHTTTT rot: TTTTHHTH  flip: 01234567 => HHHHTTHT\n",
      "  96: HHHHTTHT rot: HHTTHTHH  flip: 01234 6  => HHTTTHTT\n",
      "  97: HHTTTHTT rot: HTTHHTTT  flip: 01234567 => HHHTHHTT\n",
      "  98: HHHTHHTT rot: THHTTHHH  flip: 0 2 4 6  => HHHTTHHT\n",
      "  99: HHHTTHHT rot: HTHHHTTH  flip: 01234567 => HHTTHTTT\n",
      " 100: HHTTHTTT rot: TTTHHTTH  flip: 01  45   => HHHTHTHT\n",
      " 101: HHHTHTHT rot: HHHTHTHT  flip: 01234567 => HTHTHTTT\n",
      " 102: HTHTHTTT rot: HTHTTTHT  flip: 0 2 4 6  => HTTTTTTT\n",
      " 103: HTTTTTTT rot: TTTTTTTH  flip: 01234567 => HHHHHHHT\n",
      " 104: HHHHHHHT rot: HTHHHHHH  flip: 012 456  => HTHTHTTT\n",
      " 105: HTHTHTTT rot: THTTTHTH  flip: 01234567 => HHHTHTHT\n",
      " 106: HHHTHTHT rot: THHHTHTH  flip: 0 2 4 6  => HHHHHHHT\n",
      " 107: HHHHHHHT rot: HTHHHHHH  flip: 01234567 => HTTTTTTT\n",
      " 108: HTTTTTTT rot: THTTTTTT  flip: 01  45   => HHTTHTTT\n",
      " 109: HHTTHTTT rot: TTHHTTHT  flip: 01234567 => HHHTTHHT\n",
      " 110: HHHTTHHT rot: HTHHHTTH  flip: 0 2 4 6  => HHTTTHTT\n",
      " 111: HHTTTHTT rot: HHTTTHTT  flip: 01234567 => HHHTHHTT\n",
      " 112: HHHTHHTT rot: THHTTHHH  flip: 0123     => HHHHTTHT\n",
      " 113: HHHHTTHT rot: HHHTTHTH  flip: 01234567 => HHTHTTTT\n",
      " 114: HHTHTTTT rot: HHTHTTTT  flip: 0 2 4 6  => HHHHTHTT\n",
      " 115: HHHHTHTT rot: HTHTTHHH  flip: 01234567 => HHTTTTHT\n",
      " 116: HHTTTTHT rot: HHTTTTHT  flip: 01  45   => HHHTTTTT\n",
      " 117: HHHTTTTT rot: TTTTHHHT  flip: 01234567 => HHHHHTTT\n",
      " 118: HHHHHTTT rot: HHHHHTTT  flip: 0 2 4 6  => HTHTTHTT\n",
      " 119: HTHTTHTT rot: TTHTTHTH  flip: 01234567 => HHTHHTHT\n",
      " 120: HHTHHTHT rot: THHTHTHH  flip: 012 456  => HHTTTTHT\n",
      " 121: HHTTTTHT rot: THHTTTTH  flip: 01234567 => HHHHTHTT\n",
      " 122: HHHHTHTT rot: THTTHHHH  flip: 0 2 4 6  => HHHHTTHT\n",
      " 123: HHHHTTHT rot: THHHHTTH  flip: 01234567 => HHTHTTTT\n",
      " 124: HHTHTTTT rot: TTTHHTHT  flip: 01  45   => HHTHHTHT\n",
      " 125: HHTHHTHT rot: HTHHTHHT  flip: 01234567 => HTHTTHTT\n",
      " 126: HTHTTHTT rot: HTHTTHTT  flip: 0 2 4 6  => HHHTTTTT\n",
      " 127: HHHTTTTT rot: TTTTHHHT  flip: 01234567 => HHHHHTTT\n",
      " 128: HHHHHTTT rot: HHHHTTTH  flip: 0123456  => HHHHTTTT\n",
      " 129: HHHHTTTT rot: HHHHTTTT  flip: 01234567 => HHHHTTTT\n",
      " 130: HHHHTTTT rot: THHHHTTT  flip: 0 2 4 6  => HHTHTTHT\n",
      " 131: HHTHTTHT rot: THTHHTHT  flip: 01234567 => HHTHTTHT\n",
      " 132: HHTHTTHT rot: TTHTHHTH  flip: 01  45   => HHHHTTTT\n",
      " 133: HHHHTTTT rot: TTHHHHTT  flip: 01234567 => HHHHTTTT\n",
      " 134: HHHHTTTT rot: TTTHHHHT  flip: 0 2 4 6  => HHTHTTHT\n",
      " 135: HHTHTTHT rot: THHTHTTH  flip: 01234567 => HHTHTTHT\n",
      " 136: HHTHTTHT rot: THHTHTTH  flip: 012 456  => HHHHTTTT\n",
      " 137: HHHHTTTT rot: TTHHHHTT  flip: 01234567 => HHHHTTTT\n",
      " 138: HHHHTTTT rot: HTTTTHHH  flip: 0 2 4 6  => HHTHTTHT\n",
      " 139: HHTHTTHT rot: THHTHTTH  flip: 01234567 => HHTHTTHT\n",
      " 140: HHTHTTHT rot: HTHTTHTH  flip: 01  45   => HHTHTTHT\n",
      " 141: HHTHTTHT rot: HHTHTTHT  flip: 01234567 => HHTHTTHT\n",
      " 142: HHTHTTHT rot: HTHHTHTT  flip: 0 2 4 6  => HHHHTTTT\n",
      " 143: HHHHTTTT rot: HHHTTTTH  flip: 01234567 => HHHHTTTT\n",
      " 144: HHHHTTTT rot: HTTTTHHH  flip: 0123     => HHHTHHHT\n",
      " 145: HHHTHHHT rot: HHHTHHHT  flip: 01234567 => HTTTHTTT\n",
      " 146: HTTTHTTT rot: TTHTTTHT  flip: 0 2 4 6  => HTTTHTTT\n",
      " 147: HTTTHTTT rot: TTTHTTTH  flip: 01234567 => HHHTHHHT\n",
      " 148: HHHTHHHT rot: HHHTHHHT  flip: 01  45   => HTTTHTTT\n",
      " 149: HTTTHTTT rot: HTTTHTTT  flip: 01234567 => HHHTHHHT\n",
      " 150: HHHTHHHT rot: HTHHHTHH  flip: 0 2 4 6  => HTTTHTTT\n",
      " 151: HTTTHTTT rot: HTTTHTTT  flip: 01234567 => HHHTHHHT\n",
      " 152: HHHTHHHT rot: HTHHHTHH  flip: 012 456  => HTHTHTHT\n",
      " 153: HTHTHTHT rot: HTHTHTHT  flip: 01234567 => HTHTHTHT\n",
      " 154: HTHTHTHT rot: HTHTHTHT  flip: 0 2 4 6  => TTTTTTTT\n",
      " 155: TTTTTTTT rot: TTTTTTTT  flip: 01234567 => HHHHHHHH\n"
     ]
    },
    {
     "data": {
      "text/plain": [
       "'HHHHHHHH'"
      ]
     },
     "execution_count": 26,
     "metadata": {},
     "output_type": "execute_result"
    }
   ],
   "source": [
    "play('HTTHTTHT', strategy, True)"
   ]
  },
  {
   "cell_type": "code",
   "execution_count": 27,
   "metadata": {},
   "outputs": [
    {
     "data": {
      "text/html": [
       "<style>@import url(https://spoqa.github.io/spoqa-han-sans/css/SpoqaHanSans-kr.css);@import url(https://cdn.jsdelivr.net/gh/Joungkyun/font-d2coding@1.31.0/d2coding-ligature.min.css);#notebook-container{font-family:\"Spoqa Han Sans\",sans-serif;font-weight:400;font-size:18px;line-height:1.65}.cell{margin-top:1.5em;margin-bottom:1.5em}.text_cell_render{padding:0}.text_cell_render p,.text_cell_render li{margin-bottom:1.3em}.text_cell_render h1,.text_cell_render h2,.text_cell_render h3,.text_cell_render h4{margin:1.414em 0 0.5em;font-weight:inherit;line-height:1.2;color:#0074d9}.text_cell_render h1{margin-top:0;font-size:2.44140625em;text-align:center;font-weight:100}.text_cell_render h2{font-size:1.953125em;padding-bottom:0.3em;border-bottom:0.1em solid #0074d9}.text_cell_render h3{font-size:1.5625em}.text_cell_render h4{font-size:1.25em}.text_cell_render .small{font-size:.8em}.text_cell_render .text-center{text-align:center}.rendered_html li code,.rendered_html p code{color:#cd3700}.input_area>div,.highlight{font-family:\"D2 coding Ligature\",monospace;font-size:1.1em;line-height:1.5}code,pre{font-family:\"D2 coding Ligature\",monospace}\n",
       "/*# sourceMappingURL=style.css.map */\n",
       "</style>"
      ],
      "text/plain": [
       "<IPython.core.display.HTML object>"
      ]
     },
     "execution_count": 27,
     "metadata": {},
     "output_type": "execute_result"
    }
   ],
   "source": [
    "# Style\n",
    "from IPython.display import HTML\n",
    "\n",
    "def apply_css():\n",
    "    with open(\"../styles/style.css\", \"r\") as f:\n",
    "        css = f.read()\n",
    "        return HTML(\"<style>{}</style>\".format(css))\n",
    "\n",
    "apply_css()"
   ]
  }
 ],
 "metadata": {
  "kernelspec": {
   "display_name": "Python 3",
   "language": "python",
   "name": "python3"
  },
  "language_info": {
   "codemirror_mode": {
    "name": "ipython",
    "version": 3
   },
   "file_extension": ".py",
   "mimetype": "text/x-python",
   "name": "python",
   "nbconvert_exporter": "python",
   "pygments_lexer": "ipython3",
   "version": "3.6.1"
  },
  "toc": {
   "colors": {
    "hover_highlight": "#DAA520",
    "navigate_num": "#000000",
    "navigate_text": "#333333",
    "running_highlight": "#FF0000",
    "selected_highlight": "#FFD700",
    "sidebar_border": "#EEEEEE",
    "wrapper_background": "#FFFFFF"
   },
   "moveMenuLeft": true,
   "nav_menu": {
    "height": "210px",
    "width": "252px"
   },
   "navigate_menu": true,
   "number_sections": true,
   "sideBar": true,
   "threshold": 4,
   "toc_cell": false,
   "toc_section_display": "block",
   "toc_window_display": false,
   "widenNotebook": false
  },
  "varInspector": {
   "cols": {
    "lenName": 16,
    "lenType": 16,
    "lenVar": 40
   },
   "kernels_config": {
    "python": {
     "delete_cmd_postfix": "",
     "delete_cmd_prefix": "del ",
     "library": "var_list.py",
     "varRefreshCmd": "print(var_dic_list())"
    },
    "r": {
     "delete_cmd_postfix": ") ",
     "delete_cmd_prefix": "rm(",
     "library": "var_list.r",
     "varRefreshCmd": "cat(var_dic_list()) "
    }
   },
   "types_to_exclude": [
    "module",
    "function",
    "builtin_function_or_method",
    "instance",
    "_Feature"
   ],
   "window_display": false
  }
 },
 "nbformat": 4,
 "nbformat_minor": 2
}
